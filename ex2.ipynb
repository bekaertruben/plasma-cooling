{
 "cells": [
  {
   "cell_type": "markdown",
   "metadata": {},
   "source": [
    "## Exercise 2\n",
    "Track the evolution of the electron energy distribution for different strengths of the synchrotron and inverse Compton cooling. Plot the distributions as a function of the electron kinetic energy ($\\gamma - 1$) in log-log scale with logarithmic bins for the energy."
   ]
  },
  {
   "cell_type": "code",
   "execution_count": null,
   "metadata": {},
   "outputs": [],
   "source": [
    "from wrapper_sim import Simulation\n",
    "import pusher\n",
    "import numpy as np\n",
    "from matplotlib import figure, axes, patches, lines, colors\n",
    "from typing import Optional\n",
    "from warnings import warn\n",
    "import matplotlib.pyplot as plt"
   ]
  },
  {
   "cell_type": "code",
   "execution_count": null,
   "metadata": {},
   "outputs": [],
   "source": [
    "particles = int(1e5)\n",
    "gd = np.geomspace(1,1e3,4)\n",
    "cs = [{gsyn:gic for gic in gd} for gsyn in gd]\n",
    "saves = 10\n",
    "temp = 1\n",
    "names = []\n",
    "\n",
    "for gamma_drag in cs:\n",
    "    sim = Simulation()\n",
    "    sim.begin(particles, temp, gamma_drag, saves)\n",
    "    sim.run()\n",
    "    name = f\"P1e5-T1-S10-syn{gamma_drag['syn']}-ic{gamma_drag['ic']}\"\n",
    "    sim.end(name)\n",
    "    names.append(name)"
   ]
  },
  {
   "cell_type": "code",
   "execution_count": null,
   "metadata": {},
   "outputs": [],
   "source": [
    "def axhist_energy_spectrum(ax: axes.Axes, U: np.ndarray, color: str, *args, **kwargs):\n",
    "    gm1 = pusher.lorentz_factor(U) - 1\n",
    "    opacity = np.linspace(0, 1, gm1.shape[0])\n",
    "\n",
    "    for Ek, alpha in zip(gm1, opacity):\n",
    "        l = ax.hist(np.log10(Ek), histtype=\"step\", bins=\"fd\",\n",
    "                    alpha=alpha, color=color, *args, **kwargs)\n",
    "\n",
    "    return ax, l\n",
    "\n",
    "\n",
    "def exercise2(names: list[str]):\n",
    "    sim = Simulation()\n",
    "\n",
    "    fig = plt.figure()\n",
    "    ax = fig.add_subplot()\n",
    "\n",
    "    handles = []\n",
    "    labels = []\n",
    "    for name, color in zip(names, colors.TABLEAU_COLORS.values()):\n",
    "        sim.load(name)\n",
    "\n",
    "        ax, l = axhist_energy_spectrum(ax, sim.vel_history, color)\n",
    "    \n",
    "        handles.append(l)\n",
    "        labels.append(fr\"$\\gamma_\\mathrm{{syn}} = {sim.gamma_drag['syn']}, \\gamma_\\mathrm{{IC}} = {sim.gamma_drag['ic']}$\")\n",
    "    \n",
    "    ax.set_xlabel(r\"$\\log_{10}\\left(\\gamma - 1\\right)$\")\n",
    "    ax.set_ylabel(\"Counts\")\n",
    "    ax.set_yscale(\"log\")\n",
    "\n",
    "    fig.legend(handles, labels)\n",
    "\n",
    "    return fig, ax"
   ]
  },
  {
   "cell_type": "code",
   "execution_count": null,
   "metadata": {},
   "outputs": [],
   "source": [
    "figs = []\n",
    "for i in range(4):\n",
    "    figs.append(exercise2(names[4*i, 4*(i+1)]))\n",
    "for f in figs:\n",
    "    f.show()"
   ]
  },
  {
   "cell_type": "code",
   "execution_count": null,
   "metadata": {},
   "outputs": [],
   "source": []
  }
 ],
 "metadata": {
  "kernelspec": {
   "display_name": "venv-radiativecooling",
   "language": "python",
   "name": "python3"
  },
  "language_info": {
   "codemirror_mode": {
    "name": "ipython",
    "version": 3
   },
   "file_extension": ".py",
   "mimetype": "text/x-python",
   "name": "python",
   "nbconvert_exporter": "python",
   "pygments_lexer": "ipython3",
   "version": "3.11.6"
  }
 },
 "nbformat": 4,
 "nbformat_minor": 2
}
