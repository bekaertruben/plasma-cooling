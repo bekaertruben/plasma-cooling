{
 "cells": [
  {
   "cell_type": "markdown",
   "metadata": {},
   "source": [
    "## Exercise 1\n",
    "Plot the trajectories of a few representative particles for different strengths of the cooling to show that the numerical integration gives sensible results."
   ]
  },
  {
   "cell_type": "code",
   "execution_count": 1,
   "metadata": {},
   "outputs": [],
   "source": [
    "from wrapper_sim import Simulation\n",
    "import pusher\n",
    "import numpy as np\n",
    "from matplotlib import figure, axes, patches, lines, colors\n",
    "from typing import Optional\n",
    "from warnings import warn\n",
    "import matplotlib.pyplot as plt"
   ]
  },
  {
   "cell_type": "markdown",
   "metadata": {},
   "source": [
    "If simulations have not run, the below script will do so."
   ]
  },
  {
   "cell_type": "code",
   "execution_count": null,
   "metadata": {},
   "outputs": [],
   "source": [
    "gd = np.geomspace(1,1e3,4)\n",
    "cs = [{\"syn\":g, \"ic\":g} for g in gd]\n",
    "saves = -1\n",
    "particles = 1\n",
    "temp = 1.\n",
    "\n",
    "names = []\n",
    "\n",
    "for gamma_drag in cs:\n",
    "    sim = Simulation()\n",
    "    sim.begin(particles, temp, gamma_drag, saves)\n",
    "    sim.run()\n",
    "    name = f\"P1-T1-Sm1-syn{int(gamma_drag['syn'])}-ic{int(gamma_drag['ic'])}\"\n",
    "    sim.end(name)\n",
    "    names.append(name)\n"
   ]
  },
  {
   "cell_type": "code",
   "execution_count": 2,
   "metadata": {},
   "outputs": [],
   "source": [
    "def axplot_trajectory(ax: axes.Axes, X: np.ndarray, time: Optional[np.ndarray] = None, *args, **kwargs):\n",
    "    if time is None:\n",
    "        time = np.arange(X.shape[0])\n",
    "    colors = [\"k\", \"c\", \"m\"]\n",
    "    lines = []\n",
    "    for i in range(3):\n",
    "        lines.append(ax.plot(time, X[0, i], color=colors[i], *args, **kwargs))\n",
    "    ax.set_xlabel(\"Time\")\n",
    "    return ax, lines\n",
    "\n",
    "\n",
    "def exercise1(names: list[str]):\n",
    "    if len(names) > 4:\n",
    "        warn(\"len(names) > 4, all items after the 4th will not be considered\")\n",
    "        names = names[:4]\n",
    "    fig = plt.figure(figsize=(5, 5),dpi=300)\n",
    "    gs = fig.add_gridspec(1, 2)\n",
    "    ax1 = fig.add_subplot(gs[0, 0])\n",
    "    ax2 = fig.add_subplot(gs[0, 1], sharex=ax1)\n",
    "    linestyles = [\"-\", \"--\", \"-.\", \":\"]\n",
    "    \n",
    "    sim = Simulation()\n",
    "    cooling_strenghts = []\n",
    "    \n",
    "    for name, style in zip(name, linestyles):\n",
    "        sim.load(name)\n",
    "        cooling_strenghts.append(sim.gamma_drag)\n",
    "        ax1, _ = axplot_trajectory(ax1, sim.pos_history, lw=0.5, ls=style)\n",
    "        ax2, _ = axplot_trajectory(ax2, sim.vel_history, lw=0.5, ls=style)\n",
    "\n",
    "    kpatch = patches.Patch(color=\"k\", label=r\"$\\cdot \\hat{x}$\")\n",
    "    cpatch = patches.Patch(color=\"c\", label=r\"$\\cdot \\hat{y}$\")\n",
    "    mpatch = patches.Patch(color=\"m\", label=r\"$\\cdot \\hat{z}$\")\n",
    "    legendlines = [lines.Line2D([], [], color=\"grey\", linestyle=style, label=fr\"$\\gamma_\\mathrm{{IC}} = {drag['ic']}, \\gamma_\\mathrm{{SYN}} = {drag['syn']}$\")\n",
    "                   for style, drag in zip(linestyles, cooling_strenghts)]\n",
    "\n",
    "    fig.legend(handles=kpatch + cpatch + mpatch + legendlines)\n",
    "\n",
    "    ax1.set_ylabel(\"Position\")\n",
    "    ax2.set_ylabel(\"Proper Velocity\")\n",
    "\n",
    "    return fig"
   ]
  },
  {
   "cell_type": "code",
   "execution_count": null,
   "metadata": {},
   "outputs": [],
   "source": [
    "f1 = exercise1(names)\n",
    "f1.show()"
   ]
  }
 ],
 "metadata": {
  "kernelspec": {
   "display_name": "venv-radiativecooling",
   "language": "python",
   "name": "python3"
  },
  "language_info": {
   "codemirror_mode": {
    "name": "ipython",
    "version": 3
   },
   "file_extension": ".py",
   "mimetype": "text/x-python",
   "name": "python",
   "nbconvert_exporter": "python",
   "pygments_lexer": "ipython3",
   "version": "3.11.6"
  }
 },
 "nbformat": 4,
 "nbformat_minor": 2
}
