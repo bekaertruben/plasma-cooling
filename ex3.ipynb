{
 "cells": [
  {
   "cell_type": "markdown",
   "metadata": {},
   "source": [
    "## Exercise 3\n",
    "Plot the steady state distributions for different coolings strengths. How does the mean particle energy change with respect to the cooling? Highlight any high-energy power-law tails in the distribution and/or try to fit a Maxwellian distribution to the low-energy part."
   ]
  },
  {
   "cell_type": "code",
   "execution_count": 6,
   "metadata": {},
   "outputs": [],
   "source": [
    "from wrapper_sim import Simulation\n",
    "import pusher\n",
    "import numpy as np\n",
    "from matplotlib import figure, axes, patches, lines, colors\n",
    "from typing import Optional\n",
    "from warnings import warn\n",
    "import matplotlib.pyplot as plt\n",
    "from maxwell_juttner import MaxwellJuttner"
   ]
  },
  {
   "cell_type": "code",
   "execution_count": 7,
   "metadata": {},
   "outputs": [],
   "source": [
    "particles = int(1e5)\n",
    "gd = np.geomspace(1,1e3,4)\n",
    "cs = [{\"syn\": gsyn, \"ic\":gic} for gsyn in gd for gic in gd]\n",
    "\n",
    "saves = 10\n",
    "temp = 1\n",
    "names = []\n",
    "\n",
    "for gamma_drag in cs:\n",
    "    sim = Simulation()\n",
    "    sim.begin(particles, temp, gamma_drag, saves)\n",
    "    sim.run()\n",
    "    name = f\"P1e5-T1-S10-syn{gamma_drag['syn']}-ic{gamma_drag['ic']}\"\n",
    "    sim.end(name)\n",
    "    names.append(name)"
   ]
  },
  {
   "cell_type": "code",
   "execution_count": null,
   "metadata": {},
   "outputs": [],
   "source": [
    "def axhist_steady_energy_spectrum(ax: axes.Axes, U: np.ndarray, color: str, *args, **kwargs):\n",
    "    lor = pusher.lorentz_factor(U[-1])\n",
    "    l = ax.hist(np.log10(lor - 1), histtype=\"step\", bins=\"fd\", color=color, *args, **kwargs)\n",
    "    return ax, l\n",
    "\n",
    "def power_law(U: np.ndarray, lorentz_range: Optional[tuple] = None):\n",
    "    lor = pusher.lorentz_factor(U[-1])\n",
    "    if lorentz_range is None:\n",
    "        lorentz_range = (1, np.inf)\n",
    "    lo,hi = lorentz_range\n",
    "    temp = MaxwellJuttner.fit(lor[(lo < lor) *  (lor < hi)])\n",
    "    print(f'fitted temperature: {temp}')\n",
    "    return temp\n",
    "\n",
    "def axplot_powerlaw(ax: axes.Axes, temp: float, lorentz_range: tuple, color: str, *args, **kwargs):\n",
    "    gamma_space = np.geomspace(*lorentz_range, 200)\n",
    "    mj = MaxwellJuttner()\n",
    "    mj_space = mj.pdf(gamma_space, temp)\n",
    "    log_gminus1 = np.log10(gamma_space-1)\n",
    "    l = ax.plot(log_gminus1, mj_space, color=color, *args, **kwargs)\n",
    "    return ax, l, np.mean(log_gminus1)\n",
    "\n",
    "def exercise3(names: list[str]):\n",
    "    sim = Simulation()\n",
    "\n",
    "    fig = plt.figure()\n",
    "    ax = fig.add_subplot()\n",
    "\n",
    "    handles = []\n",
    "    labels = []\n",
    "    for name, color in zip(names, colors.TABLEAU_COLORS.values()):\n",
    "        sim.load(name)\n",
    "\n",
    "        ax, l, mean = axhist_steady_energy_spectrum(ax, sim.vel_history, color)\n",
    "    \n",
    "        handles.append(l)\n",
    "        labels.append(fr\"$\\gamma_\\mathrm{{syn}} = {sim.gamma_drag['syn']}, \\gamma_\\mathrm{{IC}} = {sim.gamma_drag['ic']}, \\overline{{\\log_{{10}}(\\gamma - 1)}} = {mean}$\")\n",
    "    \n",
    "    ax.set_xlabel(r\"$\\log_{10}\\left(\\gamma - 1\\right)$\")\n",
    "    ax.set_ylabel(r\"$dN_\\mathrm{e}/d(\\gamma - 1)$\")\n",
    "    ax.set_yscale(\"log\")\n",
    "\n",
    "    fig.legend(handles, labels)\n",
    "\n",
    "    return fig, ax"
   ]
  },
  {
   "cell_type": "code",
   "execution_count": null,
   "metadata": {},
   "outputs": [],
   "source": []
  }
 ],
 "metadata": {
  "kernelspec": {
   "display_name": "venv-radiativecooling",
   "language": "python",
   "name": "python3"
  },
  "language_info": {
   "codemirror_mode": {
    "name": "ipython",
    "version": 3
   },
   "file_extension": ".py",
   "mimetype": "text/x-python",
   "name": "python",
   "nbconvert_exporter": "python",
   "pygments_lexer": "ipython3",
   "version": "3.11.6"
  }
 },
 "nbformat": 4,
 "nbformat_minor": 2
}
